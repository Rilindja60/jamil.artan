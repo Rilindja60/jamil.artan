{
  "cells": [
    {
      "cell_type": "markdown",
      "metadata": {
        "id": "view-in-github",
        "colab_type": "text"
      },
      "source": [
        "<a href=\"https://colab.research.google.com/github/Rilindja60/jamil.artan/blob/main/tickers%20with%20B.ipynb\" target=\"_parent\"><img src=\"https://colab.research.google.com/assets/colab-badge.svg\" alt=\"Open In Colab\"/></a>"
      ]
    },
    {
      "cell_type": "code",
      "source": [
        "import pandas as pd\n",
        "\n",
        "# Define the URL of the NASDAQ listings file\n",
        "url = 'https://www.nasdaqtrader.com/dynamic/symdir/nasdaqlisted.txt'\n",
        "\n",
        "# Read the data into a pandas DataFrame\n",
        "df = pd.read_csv(url, sep='|')\n",
        "\n",
        "# Drop rows where 'Symbol' column is NaN\n",
        "df = df.dropna(subset=['Symbol'])\n",
        "\n",
        "# Filter companies whose ticker starts with 'B'\n",
        "df_filtered = df[df['Symbol'].str.startswith('B')]\n",
        "\n",
        "# Select relevant columns (e.g., Symbol and Security Name)\n",
        "df_filtered = df_filtered[['Symbol', 'Security Name']]\n",
        "\n",
        "# Save the filtered data to an Excel file\n",
        "df_filtered.to_excel('NASDAQ_B_Tickers.xlsx', index=False)\n",
        "\n",
        "print(\"Excel file 'NASDAQ_B_Tickers.xlsx' has been created successfully.\")\n"
      ],
      "metadata": {
        "id": "f_ifGrbZ35bf",
        "outputId": "aabaccec-3897-44b3-89b9-d74f9b70a220",
        "colab": {
          "base_uri": "https://localhost:8080/"
        }
      },
      "execution_count": 2,
      "outputs": [
        {
          "output_type": "stream",
          "name": "stdout",
          "text": [
            "Excel file 'NASDAQ_B_Tickers.xlsx' has been created successfully.\n"
          ]
        }
      ]
    },
    {
      "cell_type": "code",
      "source": [
        "from google.colab import files\n",
        "\n",
        "# Download the file\n",
        "files.download('NASDAQ_B_Tickers.xlsx')\n"
      ],
      "metadata": {
        "id": "EWvVdxwE5Da9",
        "outputId": "46bb8f62-1e02-4006-d063-766c8a201e15",
        "colab": {
          "base_uri": "https://localhost:8080/",
          "height": 17
        }
      },
      "execution_count": 3,
      "outputs": [
        {
          "output_type": "display_data",
          "data": {
            "text/plain": [
              "<IPython.core.display.Javascript object>"
            ],
            "application/javascript": [
              "\n",
              "    async function download(id, filename, size) {\n",
              "      if (!google.colab.kernel.accessAllowed) {\n",
              "        return;\n",
              "      }\n",
              "      const div = document.createElement('div');\n",
              "      const label = document.createElement('label');\n",
              "      label.textContent = `Downloading \"${filename}\": `;\n",
              "      div.appendChild(label);\n",
              "      const progress = document.createElement('progress');\n",
              "      progress.max = size;\n",
              "      div.appendChild(progress);\n",
              "      document.body.appendChild(div);\n",
              "\n",
              "      const buffers = [];\n",
              "      let downloaded = 0;\n",
              "\n",
              "      const channel = await google.colab.kernel.comms.open(id);\n",
              "      // Send a message to notify the kernel that we're ready.\n",
              "      channel.send({})\n",
              "\n",
              "      for await (const message of channel.messages) {\n",
              "        // Send a message to notify the kernel that we're ready.\n",
              "        channel.send({})\n",
              "        if (message.buffers) {\n",
              "          for (const buffer of message.buffers) {\n",
              "            buffers.push(buffer);\n",
              "            downloaded += buffer.byteLength;\n",
              "            progress.value = downloaded;\n",
              "          }\n",
              "        }\n",
              "      }\n",
              "      const blob = new Blob(buffers, {type: 'application/binary'});\n",
              "      const a = document.createElement('a');\n",
              "      a.href = window.URL.createObjectURL(blob);\n",
              "      a.download = filename;\n",
              "      div.appendChild(a);\n",
              "      a.click();\n",
              "      div.remove();\n",
              "    }\n",
              "  "
            ]
          },
          "metadata": {}
        },
        {
          "output_type": "display_data",
          "data": {
            "text/plain": [
              "<IPython.core.display.Javascript object>"
            ],
            "application/javascript": [
              "download(\"download_33ba86f9-89b1-434e-bdab-30ba59084039\", \"NASDAQ_B_Tickers.xlsx\", 11846)"
            ]
          },
          "metadata": {}
        }
      ]
    }
  ],
  "metadata": {
    "colab": {
      "name": "Welcome To Colab",
      "toc_visible": true,
      "provenance": [],
      "include_colab_link": true
    },
    "kernelspec": {
      "display_name": "Python 3",
      "name": "python3"
    }
  },
  "nbformat": 4,
  "nbformat_minor": 0
}